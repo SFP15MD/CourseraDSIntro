{
 "cells": [
  {
   "cell_type": "markdown",
   "id": "d898b56b-9cba-4797-a649-fa41d7c401cd",
   "metadata": {},
   "source": [
    "# Data Science Tools and Ecosystem"
   ]
  },
  {
   "cell_type": "markdown",
   "id": "3fc211b4-75d3-4d36-8efa-6d987c063957",
   "metadata": {},
   "source": [
    "In this notebook, Data Science Tools and Ecosystem are summarized."
   ]
  },
  {
   "cell_type": "markdown",
   "id": "f9381147-c9ef-45b2-a480-bb241237f2ee",
   "metadata": {},
   "source": [
    "**Objectives:**\n",
    "- List popular languages for Data Science\n",
    "- List common liraries used for Data Science\n",
    "- Introduce ways to visualize data\n",
    "- Help navigate the most popular IDEs\n",
    "- Intro Git and explain the difference of Git vs GitHub"
   ]
  },
  {
   "cell_type": "markdown",
   "id": "540557c4-0ff5-490a-9c5a-77ea7d4fef10",
   "metadata": {},
   "source": [
    "Some of the popular languages that Data Scientists use are:\n",
    "1. SQL\n",
    "2. R\n",
    "3. Python\n",
    "4. Java\n",
    "5. scala\n",
    "6. Julia"
   ]
  },
  {
   "cell_type": "markdown",
   "id": "640ed643-dfc4-46a2-bd34-2975eddeac18",
   "metadata": {},
   "source": [
    "Some of the commonly used libraries used by Data Scientists include:\n",
    "1. Pandas\n",
    "2. NumPy\n",
    "3. Matplotlib\n",
    "4. TensorFlow\n",
    "5. Scikit-learn"
   ]
  },
  {
   "cell_type": "markdown",
   "id": "e40e60be-cd76-41a7-a55f-5490c4f9401c",
   "metadata": {},
   "source": [
    "|Data Science Tools|\n",
    "|------|\n",
    "|Anaconda|\n",
    "|R Studio|\n",
    "|VS Code|\n",
    "|Jupyter Notebook|"
   ]
  },
  {
   "cell_type": "markdown",
   "id": "056be0ac-f333-4828-8945-cf8eea9f67f0",
   "metadata": {},
   "source": [
    "### Below are a few examples of evaluating arithmetic expressions in Python."
   ]
  },
  {
   "cell_type": "code",
   "execution_count": 11,
   "id": "90713442-1f3e-4428-bbac-85f57af5c4b0",
   "metadata": {},
   "outputs": [
    {
     "data": {
      "text/plain": [
       "17"
      ]
     },
     "execution_count": 11,
     "metadata": {},
     "output_type": "execute_result"
    }
   ],
   "source": [
    "# This a simple arithmetic expression to mutiply then add integers.\n",
    "(3*4)+5"
   ]
  },
  {
   "cell_type": "code",
   "execution_count": 13,
   "id": "b6b0b85b-b2f0-412f-917d-9de5a04d9beb",
   "metadata": {},
   "outputs": [
    {
     "data": {
      "text/plain": [
       "3.3333333333333335"
      ]
     },
     "execution_count": 13,
     "metadata": {},
     "output_type": "execute_result"
    }
   ],
   "source": [
    "# This will convert 200 minutes to hours by diving by 60\n",
    "(200/60)"
   ]
  },
  {
   "cell_type": "markdown",
   "id": "789be2df-956d-4fcc-9a78-26dc4c027805",
   "metadata": {},
   "source": [
    "## Author\n",
    "Stefan Ferrari-Peinl"
   ]
  },
  {
   "cell_type": "code",
   "execution_count": null,
   "id": "f89561d7-33d3-4bcf-bafe-89bd4608e1d7",
   "metadata": {},
   "outputs": [],
   "source": []
  }
 ],
 "metadata": {
  "kernelspec": {
   "display_name": "Python [conda env:base] *",
   "language": "python",
   "name": "conda-base-py"
  },
  "language_info": {
   "codemirror_mode": {
    "name": "ipython",
    "version": 3
   },
   "file_extension": ".py",
   "mimetype": "text/x-python",
   "name": "python",
   "nbconvert_exporter": "python",
   "pygments_lexer": "ipython3",
   "version": "3.12.7"
  }
 },
 "nbformat": 4,
 "nbformat_minor": 5
}
